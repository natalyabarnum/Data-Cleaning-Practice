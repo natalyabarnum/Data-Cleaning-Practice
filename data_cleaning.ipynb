{
 "cells": [
  {
   "cell_type": "markdown",
   "id": "ffffc690",
   "metadata": {},
   "source": [
    "# Importing necessary packages and data"
   ]
  },
  {
   "cell_type": "code",
   "execution_count": 1,
   "id": "c698d9f9",
   "metadata": {},
   "outputs": [],
   "source": [
    "import pandas as pd"
   ]
  },
  {
   "cell_type": "code",
   "execution_count": 117,
   "id": "986b3cb4",
   "metadata": {},
   "outputs": [],
   "source": [
    "job_data = pd.read_csv('Uncleaned_DS_jobs.csv')"
   ]
  },
  {
   "cell_type": "code",
   "execution_count": 118,
   "id": "305441f3",
   "metadata": {},
   "outputs": [
    {
     "data": {
      "text/html": [
       "<div>\n",
       "<style scoped>\n",
       "    .dataframe tbody tr th:only-of-type {\n",
       "        vertical-align: middle;\n",
       "    }\n",
       "\n",
       "    .dataframe tbody tr th {\n",
       "        vertical-align: top;\n",
       "    }\n",
       "\n",
       "    .dataframe thead th {\n",
       "        text-align: right;\n",
       "    }\n",
       "</style>\n",
       "<table border=\"1\" class=\"dataframe\">\n",
       "  <thead>\n",
       "    <tr style=\"text-align: right;\">\n",
       "      <th></th>\n",
       "      <th>index</th>\n",
       "      <th>Job Title</th>\n",
       "      <th>Salary Estimate</th>\n",
       "      <th>Job Description</th>\n",
       "      <th>Rating</th>\n",
       "      <th>Company Name</th>\n",
       "      <th>Location</th>\n",
       "      <th>Headquarters</th>\n",
       "      <th>Size</th>\n",
       "      <th>Founded</th>\n",
       "      <th>Type of ownership</th>\n",
       "      <th>Industry</th>\n",
       "      <th>Sector</th>\n",
       "      <th>Revenue</th>\n",
       "      <th>Competitors</th>\n",
       "    </tr>\n",
       "  </thead>\n",
       "  <tbody>\n",
       "    <tr>\n",
       "      <th>0</th>\n",
       "      <td>0</td>\n",
       "      <td>Sr Data Scientist</td>\n",
       "      <td>$137K-$171K (Glassdoor est.)</td>\n",
       "      <td>Description\\n\\nThe Senior Data Scientist is re...</td>\n",
       "      <td>3.1</td>\n",
       "      <td>Healthfirst\\n3.1</td>\n",
       "      <td>New York, NY</td>\n",
       "      <td>New York, NY</td>\n",
       "      <td>1001 to 5000 employees</td>\n",
       "      <td>1993</td>\n",
       "      <td>Nonprofit Organization</td>\n",
       "      <td>Insurance Carriers</td>\n",
       "      <td>Insurance</td>\n",
       "      <td>Unknown / Non-Applicable</td>\n",
       "      <td>EmblemHealth, UnitedHealth Group, Aetna</td>\n",
       "    </tr>\n",
       "    <tr>\n",
       "      <th>1</th>\n",
       "      <td>1</td>\n",
       "      <td>Data Scientist</td>\n",
       "      <td>$137K-$171K (Glassdoor est.)</td>\n",
       "      <td>Secure our Nation, Ignite your Future\\n\\nJoin ...</td>\n",
       "      <td>4.2</td>\n",
       "      <td>ManTech\\n4.2</td>\n",
       "      <td>Chantilly, VA</td>\n",
       "      <td>Herndon, VA</td>\n",
       "      <td>5001 to 10000 employees</td>\n",
       "      <td>1968</td>\n",
       "      <td>Company - Public</td>\n",
       "      <td>Research &amp; Development</td>\n",
       "      <td>Business Services</td>\n",
       "      <td>$1 to $2 billion (USD)</td>\n",
       "      <td>-1</td>\n",
       "    </tr>\n",
       "    <tr>\n",
       "      <th>2</th>\n",
       "      <td>2</td>\n",
       "      <td>Data Scientist</td>\n",
       "      <td>$137K-$171K (Glassdoor est.)</td>\n",
       "      <td>Overview\\n\\n\\nAnalysis Group is one of the lar...</td>\n",
       "      <td>3.8</td>\n",
       "      <td>Analysis Group\\n3.8</td>\n",
       "      <td>Boston, MA</td>\n",
       "      <td>Boston, MA</td>\n",
       "      <td>1001 to 5000 employees</td>\n",
       "      <td>1981</td>\n",
       "      <td>Private Practice / Firm</td>\n",
       "      <td>Consulting</td>\n",
       "      <td>Business Services</td>\n",
       "      <td>$100 to $500 million (USD)</td>\n",
       "      <td>-1</td>\n",
       "    </tr>\n",
       "    <tr>\n",
       "      <th>3</th>\n",
       "      <td>3</td>\n",
       "      <td>Data Scientist</td>\n",
       "      <td>$137K-$171K (Glassdoor est.)</td>\n",
       "      <td>JOB DESCRIPTION:\\n\\nDo you have a passion for ...</td>\n",
       "      <td>3.5</td>\n",
       "      <td>INFICON\\n3.5</td>\n",
       "      <td>Newton, MA</td>\n",
       "      <td>Bad Ragaz, Switzerland</td>\n",
       "      <td>501 to 1000 employees</td>\n",
       "      <td>2000</td>\n",
       "      <td>Company - Public</td>\n",
       "      <td>Electrical &amp; Electronic Manufacturing</td>\n",
       "      <td>Manufacturing</td>\n",
       "      <td>$100 to $500 million (USD)</td>\n",
       "      <td>MKS Instruments, Pfeiffer Vacuum, Agilent Tech...</td>\n",
       "    </tr>\n",
       "    <tr>\n",
       "      <th>4</th>\n",
       "      <td>4</td>\n",
       "      <td>Data Scientist</td>\n",
       "      <td>$137K-$171K (Glassdoor est.)</td>\n",
       "      <td>Data Scientist\\nAffinity Solutions / Marketing...</td>\n",
       "      <td>2.9</td>\n",
       "      <td>Affinity Solutions\\n2.9</td>\n",
       "      <td>New York, NY</td>\n",
       "      <td>New York, NY</td>\n",
       "      <td>51 to 200 employees</td>\n",
       "      <td>1998</td>\n",
       "      <td>Company - Private</td>\n",
       "      <td>Advertising &amp; Marketing</td>\n",
       "      <td>Business Services</td>\n",
       "      <td>Unknown / Non-Applicable</td>\n",
       "      <td>Commerce Signals, Cardlytics, Yodlee</td>\n",
       "    </tr>\n",
       "  </tbody>\n",
       "</table>\n",
       "</div>"
      ],
      "text/plain": [
       "   index          Job Title               Salary Estimate  \\\n",
       "0      0  Sr Data Scientist  $137K-$171K (Glassdoor est.)   \n",
       "1      1     Data Scientist  $137K-$171K (Glassdoor est.)   \n",
       "2      2     Data Scientist  $137K-$171K (Glassdoor est.)   \n",
       "3      3     Data Scientist  $137K-$171K (Glassdoor est.)   \n",
       "4      4     Data Scientist  $137K-$171K (Glassdoor est.)   \n",
       "\n",
       "                                     Job Description  Rating  \\\n",
       "0  Description\\n\\nThe Senior Data Scientist is re...     3.1   \n",
       "1  Secure our Nation, Ignite your Future\\n\\nJoin ...     4.2   \n",
       "2  Overview\\n\\n\\nAnalysis Group is one of the lar...     3.8   \n",
       "3  JOB DESCRIPTION:\\n\\nDo you have a passion for ...     3.5   \n",
       "4  Data Scientist\\nAffinity Solutions / Marketing...     2.9   \n",
       "\n",
       "              Company Name       Location            Headquarters  \\\n",
       "0         Healthfirst\\n3.1   New York, NY            New York, NY   \n",
       "1             ManTech\\n4.2  Chantilly, VA             Herndon, VA   \n",
       "2      Analysis Group\\n3.8     Boston, MA              Boston, MA   \n",
       "3             INFICON\\n3.5     Newton, MA  Bad Ragaz, Switzerland   \n",
       "4  Affinity Solutions\\n2.9   New York, NY            New York, NY   \n",
       "\n",
       "                      Size  Founded        Type of ownership  \\\n",
       "0   1001 to 5000 employees     1993   Nonprofit Organization   \n",
       "1  5001 to 10000 employees     1968         Company - Public   \n",
       "2   1001 to 5000 employees     1981  Private Practice / Firm   \n",
       "3    501 to 1000 employees     2000         Company - Public   \n",
       "4      51 to 200 employees     1998        Company - Private   \n",
       "\n",
       "                                Industry             Sector  \\\n",
       "0                     Insurance Carriers          Insurance   \n",
       "1                 Research & Development  Business Services   \n",
       "2                             Consulting  Business Services   \n",
       "3  Electrical & Electronic Manufacturing      Manufacturing   \n",
       "4                Advertising & Marketing  Business Services   \n",
       "\n",
       "                      Revenue  \\\n",
       "0    Unknown / Non-Applicable   \n",
       "1      $1 to $2 billion (USD)   \n",
       "2  $100 to $500 million (USD)   \n",
       "3  $100 to $500 million (USD)   \n",
       "4    Unknown / Non-Applicable   \n",
       "\n",
       "                                         Competitors  \n",
       "0            EmblemHealth, UnitedHealth Group, Aetna  \n",
       "1                                                 -1  \n",
       "2                                                 -1  \n",
       "3  MKS Instruments, Pfeiffer Vacuum, Agilent Tech...  \n",
       "4               Commerce Signals, Cardlytics, Yodlee  "
      ]
     },
     "execution_count": 118,
     "metadata": {},
     "output_type": "execute_result"
    }
   ],
   "source": [
    "job_data.head()"
   ]
  },
  {
   "cell_type": "markdown",
   "id": "d72f72e9",
   "metadata": {},
   "source": [
    "### Right off the bat, we can see some mismatching data types, newline characters and random numbers. Let's fix that"
   ]
  },
  {
   "cell_type": "code",
   "execution_count": 119,
   "id": "07720c90",
   "metadata": {},
   "outputs": [
    {
     "name": "stdout",
     "output_type": "stream",
     "text": [
      "<class 'pandas.core.frame.DataFrame'>\n",
      "RangeIndex: 672 entries, 0 to 671\n",
      "Data columns (total 15 columns):\n",
      " #   Column             Non-Null Count  Dtype  \n",
      "---  ------             --------------  -----  \n",
      " 0   index              672 non-null    int64  \n",
      " 1   Job Title          672 non-null    object \n",
      " 2   Salary Estimate    672 non-null    object \n",
      " 3   Job Description    672 non-null    object \n",
      " 4   Rating             672 non-null    float64\n",
      " 5   Company Name       672 non-null    object \n",
      " 6   Location           672 non-null    object \n",
      " 7   Headquarters       672 non-null    object \n",
      " 8   Size               672 non-null    object \n",
      " 9   Founded            672 non-null    int64  \n",
      " 10  Type of ownership  672 non-null    object \n",
      " 11  Industry           672 non-null    object \n",
      " 12  Sector             672 non-null    object \n",
      " 13  Revenue            672 non-null    object \n",
      " 14  Competitors        672 non-null    object \n",
      "dtypes: float64(1), int64(2), object(12)\n",
      "memory usage: 78.9+ KB\n"
     ]
    }
   ],
   "source": [
    "job_data.info()"
   ]
  },
  {
   "cell_type": "markdown",
   "id": "b59bcfb7",
   "metadata": {},
   "source": [
    "The salary column is an object type but it would be better (and smarter) to have it as an int value"
   ]
  },
  {
   "cell_type": "code",
   "execution_count": 120,
   "id": "ce67ca4b",
   "metadata": {},
   "outputs": [
    {
     "data": {
      "text/plain": [
       "array(['$137K-$171K (Glassdoor est.)', '$75K-$131K (Glassdoor est.)',\n",
       "       '$79K-$131K (Glassdoor est.)', '$99K-$132K (Glassdoor est.)',\n",
       "       '$90K-$109K (Glassdoor est.)', '$101K-$165K (Glassdoor est.)',\n",
       "       '$56K-$97K (Glassdoor est.)', '$79K-$106K (Glassdoor est.)',\n",
       "       '$71K-$123K (Glassdoor est.)', '$90K-$124K (Glassdoor est.)',\n",
       "       '$91K-$150K (Glassdoor est.)', '$141K-$225K (Glassdoor est.)',\n",
       "       '$145K-$225K(Employer est.)', '$79K-$147K (Glassdoor est.)',\n",
       "       '$122K-$146K (Glassdoor est.)', '$112K-$116K (Glassdoor est.)',\n",
       "       '$110K-$163K (Glassdoor est.)', '$124K-$198K (Glassdoor est.)',\n",
       "       '$79K-$133K (Glassdoor est.)', '$69K-$116K (Glassdoor est.)',\n",
       "       '$31K-$56K (Glassdoor est.)', '$95K-$119K (Glassdoor est.)',\n",
       "       '$212K-$331K (Glassdoor est.)', '$66K-$112K (Glassdoor est.)',\n",
       "       '$128K-$201K (Glassdoor est.)', '$138K-$158K (Glassdoor est.)',\n",
       "       '$80K-$132K (Glassdoor est.)', '$87K-$141K (Glassdoor est.)',\n",
       "       '$92K-$155K (Glassdoor est.)', '$105K-$167K (Glassdoor est.)'],\n",
       "      dtype=object)"
      ]
     },
     "execution_count": 120,
     "metadata": {},
     "output_type": "execute_result"
    }
   ],
   "source": [
    "job_data['Salary Estimate'].unique()"
   ]
  },
  {
   "cell_type": "code",
   "execution_count": 121,
   "id": "dd76f7af",
   "metadata": {},
   "outputs": [],
   "source": [
    "def extract_salary(val):\n",
    "    values = val.replace('$', '').replace('-', '').split('K', 2)[:2]\n",
    "    min_sal = int(values[0]) * 1000\n",
    "    max_sal = int(values[1]) * 1000\n",
    "\n",
    "    return f\"{min_sal} - {max_sal}\""
   ]
  },
  {
   "cell_type": "code",
   "execution_count": 122,
   "id": "8c04f401",
   "metadata": {},
   "outputs": [],
   "source": [
    "job_data['Salary Estimate'] = job_data['Salary Estimate'].apply(extract_salary)"
   ]
  },
  {
   "cell_type": "code",
   "execution_count": 123,
   "id": "84388536",
   "metadata": {},
   "outputs": [
    {
     "data": {
      "text/plain": [
       "0      137000 - 171000\n",
       "1      137000 - 171000\n",
       "2      137000 - 171000\n",
       "3      137000 - 171000\n",
       "4      137000 - 171000\n",
       "            ...       \n",
       "667    105000 - 167000\n",
       "668    105000 - 167000\n",
       "669    105000 - 167000\n",
       "670    105000 - 167000\n",
       "671    105000 - 167000\n",
       "Name: Salary Estimate, Length: 672, dtype: object"
      ]
     },
     "execution_count": 123,
     "metadata": {},
     "output_type": "execute_result"
    }
   ],
   "source": [
    "job_data['Salary Estimate']"
   ]
  },
  {
   "cell_type": "markdown",
   "id": "395efcc7",
   "metadata": {},
   "source": [
    "I'm making an average salary column just so we can have a solid estimate of the base pay for these jobs. If we were to use this model for further analysis, this would help make better predictions as well"
   ]
  },
  {
   "cell_type": "code",
   "execution_count": 124,
   "id": "e17282dc",
   "metadata": {},
   "outputs": [],
   "source": [
    "def avg_salary(val):\n",
    "    values = val.split(' - ')\n",
    "    min_sal = int(values[0])\n",
    "    max_sal = int(values[1])\n",
    "\n",
    "    return (min_sal + max_sal) // 2"
   ]
  },
  {
   "cell_type": "code",
   "execution_count": 126,
   "id": "c95dd1e6",
   "metadata": {},
   "outputs": [],
   "source": [
    "job_data['Average Salary Estimate'] = job_data['Salary Estimate'].apply(avg_salary)"
   ]
  },
  {
   "cell_type": "code",
   "execution_count": 128,
   "id": "d367d898",
   "metadata": {},
   "outputs": [],
   "source": [
    "column_to_move = job_data.pop('Average Salary Estimate')\n",
    "job_data.insert(3, 'Average Salary Estimate', column_to_move)"
   ]
  },
  {
   "cell_type": "code",
   "execution_count": 195,
   "id": "d2e5a210",
   "metadata": {},
   "outputs": [
    {
     "data": {
      "text/html": [
       "<div>\n",
       "<style scoped>\n",
       "    .dataframe tbody tr th:only-of-type {\n",
       "        vertical-align: middle;\n",
       "    }\n",
       "\n",
       "    .dataframe tbody tr th {\n",
       "        vertical-align: top;\n",
       "    }\n",
       "\n",
       "    .dataframe thead th {\n",
       "        text-align: right;\n",
       "    }\n",
       "</style>\n",
       "<table border=\"1\" class=\"dataframe\">\n",
       "  <thead>\n",
       "    <tr style=\"text-align: right;\">\n",
       "      <th></th>\n",
       "      <th>index</th>\n",
       "      <th>Job Title</th>\n",
       "      <th>Salary Estimate</th>\n",
       "      <th>Average Salary Estimate</th>\n",
       "      <th>Job Description</th>\n",
       "      <th>Rating</th>\n",
       "      <th>Company Name</th>\n",
       "      <th>Location</th>\n",
       "      <th>Headquarters</th>\n",
       "      <th>Size</th>\n",
       "      <th>Founded</th>\n",
       "      <th>Type of ownership</th>\n",
       "      <th>Industry</th>\n",
       "      <th>Sector</th>\n",
       "      <th>Revenue</th>\n",
       "      <th>Competitors</th>\n",
       "    </tr>\n",
       "  </thead>\n",
       "  <tbody>\n",
       "    <tr>\n",
       "      <th>0</th>\n",
       "      <td>0</td>\n",
       "      <td>Sr Data Scientist</td>\n",
       "      <td>137000 - 171000</td>\n",
       "      <td>154000</td>\n",
       "      <td>The Senior Data Scientist is responsible for d...</td>\n",
       "      <td>3.1</td>\n",
       "      <td>Healthfirst</td>\n",
       "      <td>New York, NY</td>\n",
       "      <td>New York, NY</td>\n",
       "      <td>1001 to 5000 employees</td>\n",
       "      <td>1993</td>\n",
       "      <td>Nonprofit Organization</td>\n",
       "      <td>Insurance Carriers</td>\n",
       "      <td>Insurance</td>\n",
       "      <td>Unknown / Non-Applicable</td>\n",
       "      <td>EmblemHealth, UnitedHealth Group, Aetna</td>\n",
       "    </tr>\n",
       "    <tr>\n",
       "      <th>1</th>\n",
       "      <td>1</td>\n",
       "      <td>Data Scientist</td>\n",
       "      <td>137000 - 171000</td>\n",
       "      <td>154000</td>\n",
       "      <td>Secure our Nation Ignite your FutureJoin the t...</td>\n",
       "      <td>4.2</td>\n",
       "      <td>ManTech</td>\n",
       "      <td>Chantilly, VA</td>\n",
       "      <td>Herndon, VA</td>\n",
       "      <td>5001 to 10000 employees</td>\n",
       "      <td>1968</td>\n",
       "      <td>Company - Public</td>\n",
       "      <td>Research &amp; Development</td>\n",
       "      <td>Business Services</td>\n",
       "      <td>$1 to $2 billion (USD)</td>\n",
       "      <td>-1</td>\n",
       "    </tr>\n",
       "    <tr>\n",
       "      <th>2</th>\n",
       "      <td>2</td>\n",
       "      <td>Data Scientist</td>\n",
       "      <td>137000 - 171000</td>\n",
       "      <td>154000</td>\n",
       "      <td>Analysis Group is one of the largest internati...</td>\n",
       "      <td>3.8</td>\n",
       "      <td>Analysis Group</td>\n",
       "      <td>Boston, MA</td>\n",
       "      <td>Boston, MA</td>\n",
       "      <td>1001 to 5000 employees</td>\n",
       "      <td>1981</td>\n",
       "      <td>Private Practice / Firm</td>\n",
       "      <td>Consulting</td>\n",
       "      <td>Business Services</td>\n",
       "      <td>$100 to $500 million (USD)</td>\n",
       "      <td>-1</td>\n",
       "    </tr>\n",
       "    <tr>\n",
       "      <th>3</th>\n",
       "      <td>3</td>\n",
       "      <td>Data Scientist</td>\n",
       "      <td>137000 - 171000</td>\n",
       "      <td>154000</td>\n",
       "      <td>Do you have a passion for Data and Machine Le...</td>\n",
       "      <td>3.5</td>\n",
       "      <td>INFICON</td>\n",
       "      <td>Newton, MA</td>\n",
       "      <td>Bad Ragaz, Switzerland</td>\n",
       "      <td>501 to 1000 employees</td>\n",
       "      <td>2000</td>\n",
       "      <td>Company - Public</td>\n",
       "      <td>Electrical &amp; Electronic Manufacturing</td>\n",
       "      <td>Manufacturing</td>\n",
       "      <td>$100 to $500 million (USD)</td>\n",
       "      <td>MKS Instruments, Pfeiffer Vacuum, Agilent Tech...</td>\n",
       "    </tr>\n",
       "    <tr>\n",
       "      <th>4</th>\n",
       "      <td>4</td>\n",
       "      <td>Data Scientist</td>\n",
       "      <td>137000 - 171000</td>\n",
       "      <td>154000</td>\n",
       "      <td>Data ScientistAffinity Solutions  Marketing Cl...</td>\n",
       "      <td>2.9</td>\n",
       "      <td>Affinity Solutions</td>\n",
       "      <td>New York, NY</td>\n",
       "      <td>New York, NY</td>\n",
       "      <td>51 to 200 employees</td>\n",
       "      <td>1998</td>\n",
       "      <td>Company - Private</td>\n",
       "      <td>Advertising &amp; Marketing</td>\n",
       "      <td>Business Services</td>\n",
       "      <td>Unknown / Non-Applicable</td>\n",
       "      <td>Commerce Signals, Cardlytics, Yodlee</td>\n",
       "    </tr>\n",
       "  </tbody>\n",
       "</table>\n",
       "</div>"
      ],
      "text/plain": [
       "   index          Job Title  Salary Estimate  Average Salary Estimate  \\\n",
       "0      0  Sr Data Scientist  137000 - 171000                   154000   \n",
       "1      1     Data Scientist  137000 - 171000                   154000   \n",
       "2      2     Data Scientist  137000 - 171000                   154000   \n",
       "3      3     Data Scientist  137000 - 171000                   154000   \n",
       "4      4     Data Scientist  137000 - 171000                   154000   \n",
       "\n",
       "                                     Job Description  Rating  \\\n",
       "0  The Senior Data Scientist is responsible for d...     3.1   \n",
       "1  Secure our Nation Ignite your FutureJoin the t...     4.2   \n",
       "2  Analysis Group is one of the largest internati...     3.8   \n",
       "3   Do you have a passion for Data and Machine Le...     3.5   \n",
       "4  Data ScientistAffinity Solutions  Marketing Cl...     2.9   \n",
       "\n",
       "         Company Name       Location            Headquarters  \\\n",
       "0         Healthfirst   New York, NY            New York, NY   \n",
       "1             ManTech  Chantilly, VA             Herndon, VA   \n",
       "2      Analysis Group     Boston, MA              Boston, MA   \n",
       "3             INFICON     Newton, MA  Bad Ragaz, Switzerland   \n",
       "4  Affinity Solutions   New York, NY            New York, NY   \n",
       "\n",
       "                      Size  Founded        Type of ownership  \\\n",
       "0   1001 to 5000 employees     1993   Nonprofit Organization   \n",
       "1  5001 to 10000 employees     1968         Company - Public   \n",
       "2   1001 to 5000 employees     1981  Private Practice / Firm   \n",
       "3    501 to 1000 employees     2000         Company - Public   \n",
       "4      51 to 200 employees     1998        Company - Private   \n",
       "\n",
       "                                Industry             Sector  \\\n",
       "0                     Insurance Carriers          Insurance   \n",
       "1                 Research & Development  Business Services   \n",
       "2                             Consulting  Business Services   \n",
       "3  Electrical & Electronic Manufacturing      Manufacturing   \n",
       "4                Advertising & Marketing  Business Services   \n",
       "\n",
       "                      Revenue  \\\n",
       "0    Unknown / Non-Applicable   \n",
       "1      $1 to $2 billion (USD)   \n",
       "2  $100 to $500 million (USD)   \n",
       "3  $100 to $500 million (USD)   \n",
       "4    Unknown / Non-Applicable   \n",
       "\n",
       "                                         Competitors  \n",
       "0            EmblemHealth, UnitedHealth Group, Aetna  \n",
       "1                                                 -1  \n",
       "2                                                 -1  \n",
       "3  MKS Instruments, Pfeiffer Vacuum, Agilent Tech...  \n",
       "4               Commerce Signals, Cardlytics, Yodlee  "
      ]
     },
     "execution_count": 195,
     "metadata": {},
     "output_type": "execute_result"
    }
   ],
   "source": [
    "job_data.head()"
   ]
  },
  {
   "cell_type": "markdown",
   "id": "e68553cc",
   "metadata": {},
   "source": [
    "\"Job Description\" and \"Company Name\" have new line characters and numbers that aren't really important. In order to extract any useful information from those columns, we have to clean them first"
   ]
  },
  {
   "cell_type": "code",
   "execution_count": 133,
   "id": "e51fdf7f",
   "metadata": {},
   "outputs": [],
   "source": [
    "import re"
   ]
  },
  {
   "cell_type": "code",
   "execution_count": 219,
   "id": "c4c0cd3a",
   "metadata": {},
   "outputs": [],
   "source": [
    "def clean_col(val):\n",
    "    clean_val = re.sub(r'[^\\w\\s\\n0-9.,]', '', val)\n",
    "    return clean_val"
   ]
  },
  {
   "cell_type": "code",
   "execution_count": 220,
   "id": "a408d536",
   "metadata": {},
   "outputs": [],
   "source": [
    "job_data['Job Description'] = job_data['Job Description'].apply(clean_col)"
   ]
  },
  {
   "cell_type": "code",
   "execution_count": 221,
   "id": "fb6353a1",
   "metadata": {},
   "outputs": [],
   "source": [
    "job_data['Company Name'] = job_data['Company Name'].apply(clean_col)"
   ]
  },
  {
   "cell_type": "markdown",
   "id": "b644a863",
   "metadata": {},
   "source": [
    "### Let's see what information we can extract from the job description that can benefit us, if we were to do further analysis"
   ]
  },
  {
   "cell_type": "code",
   "execution_count": null,
   "id": "04310b6a",
   "metadata": {},
   "outputs": [],
   "source": [
    "!pip install nltk"
   ]
  },
  {
   "cell_type": "code",
   "execution_count": 199,
   "id": "dd774683",
   "metadata": {},
   "outputs": [
    {
     "name": "stderr",
     "output_type": "stream",
     "text": [
      "[nltk_data] Downloading package punkt to\n",
      "[nltk_data]     C:\\Users\\natba\\AppData\\Roaming\\nltk_data...\n",
      "[nltk_data]   Unzipping tokenizers\\punkt.zip.\n"
     ]
    },
    {
     "data": {
      "text/plain": [
       "True"
      ]
     },
     "execution_count": 199,
     "metadata": {},
     "output_type": "execute_result"
    }
   ],
   "source": [
    "nltk.download('punkt')"
   ]
  },
  {
   "cell_type": "code",
   "execution_count": 201,
   "id": "be570f1e",
   "metadata": {},
   "outputs": [
    {
     "name": "stderr",
     "output_type": "stream",
     "text": [
      "[nltk_data] Downloading package stopwords to\n",
      "[nltk_data]     C:\\Users\\natba\\AppData\\Roaming\\nltk_data...\n",
      "[nltk_data]   Unzipping corpora\\stopwords.zip.\n"
     ]
    },
    {
     "data": {
      "text/plain": [
       "True"
      ]
     },
     "execution_count": 201,
     "metadata": {},
     "output_type": "execute_result"
    }
   ],
   "source": [
    "nltk.download('stopwords')"
   ]
  },
  {
   "cell_type": "code",
   "execution_count": 207,
   "id": "b1c996ff",
   "metadata": {},
   "outputs": [
    {
     "name": "stderr",
     "output_type": "stream",
     "text": [
      "[nltk_data] Downloading package wordnet to\n",
      "[nltk_data]     C:\\Users\\natba\\AppData\\Roaming\\nltk_data...\n"
     ]
    },
    {
     "data": {
      "text/plain": [
       "True"
      ]
     },
     "execution_count": 207,
     "metadata": {},
     "output_type": "execute_result"
    }
   ],
   "source": [
    "nltk.download('wordnet')"
   ]
  },
  {
   "cell_type": "code",
   "execution_count": 223,
   "id": "97778a11",
   "metadata": {},
   "outputs": [],
   "source": [
    "import nltk\n",
    "from nltk.corpus import stopwords\n",
    "from nltk.tokenize import word_tokenize\n",
    "from nltk.stem import WordNetLemmatizer\n",
    "from collections import Counter\n",
    "\n",
    "def tokenize(val):\n",
    "    tokens = word_tokenize(val)\n",
    "\n",
    "    tokens = [token.lower() for token in tokens]\n",
    "\n",
    "    stop_words = set(stopwords.words('english'))\n",
    "    filtered_tokens = [token for token in tokens if token not in stop_words]\n",
    "    \n",
    "    return filtered_tokens"
   ]
  },
  {
   "cell_type": "code",
   "execution_count": 224,
   "id": "e393fcd2",
   "metadata": {},
   "outputs": [],
   "source": [
    "job_data['Tokens'] = job_data['Job Description'].apply(tokenize)"
   ]
  },
  {
   "cell_type": "code",
   "execution_count": null,
   "id": "c1351018",
   "metadata": {},
   "outputs": [],
   "source": [
    "column_to_move_2 = job_data.pop('Tokens')"
   ]
  },
  {
   "cell_type": "code",
   "execution_count": null,
   "id": "a7fd45d9",
   "metadata": {},
   "outputs": [],
   "source": [
    "job_data.insert(5, 'Tokens', column_to_move_2)"
   ]
  },
  {
   "cell_type": "code",
   "execution_count": 235,
   "id": "c9b13ca3",
   "metadata": {},
   "outputs": [
    {
     "data": {
      "text/html": [
       "<div>\n",
       "<style scoped>\n",
       "    .dataframe tbody tr th:only-of-type {\n",
       "        vertical-align: middle;\n",
       "    }\n",
       "\n",
       "    .dataframe tbody tr th {\n",
       "        vertical-align: top;\n",
       "    }\n",
       "\n",
       "    .dataframe thead th {\n",
       "        text-align: right;\n",
       "    }\n",
       "</style>\n",
       "<table border=\"1\" class=\"dataframe\">\n",
       "  <thead>\n",
       "    <tr style=\"text-align: right;\">\n",
       "      <th></th>\n",
       "      <th>index</th>\n",
       "      <th>Job Title</th>\n",
       "      <th>Salary Estimate</th>\n",
       "      <th>Average Salary Estimate</th>\n",
       "      <th>Job Description</th>\n",
       "      <th>Tokens</th>\n",
       "      <th>Rating</th>\n",
       "      <th>Company Name</th>\n",
       "      <th>Location</th>\n",
       "      <th>Headquarters</th>\n",
       "      <th>Size</th>\n",
       "      <th>Founded</th>\n",
       "      <th>Type of ownership</th>\n",
       "      <th>Industry</th>\n",
       "      <th>Sector</th>\n",
       "      <th>Revenue</th>\n",
       "      <th>Competitors</th>\n",
       "    </tr>\n",
       "  </thead>\n",
       "  <tbody>\n",
       "    <tr>\n",
       "      <th>0</th>\n",
       "      <td>0</td>\n",
       "      <td>Sr Data Scientist</td>\n",
       "      <td>137000 - 171000</td>\n",
       "      <td>154000</td>\n",
       "      <td>The Senior Data Scientist is responsible for d...</td>\n",
       "      <td>[senior, data, scientist, responsible, definin...</td>\n",
       "      <td>3.1</td>\n",
       "      <td>Healthfirst</td>\n",
       "      <td>New York, NY</td>\n",
       "      <td>New York, NY</td>\n",
       "      <td>1001 to 5000 employees</td>\n",
       "      <td>1993</td>\n",
       "      <td>Nonprofit Organization</td>\n",
       "      <td>Insurance Carriers</td>\n",
       "      <td>Insurance</td>\n",
       "      <td>Unknown / Non-Applicable</td>\n",
       "      <td>EmblemHealth, UnitedHealth Group, Aetna</td>\n",
       "    </tr>\n",
       "    <tr>\n",
       "      <th>1</th>\n",
       "      <td>1</td>\n",
       "      <td>Data Scientist</td>\n",
       "      <td>137000 - 171000</td>\n",
       "      <td>154000</td>\n",
       "      <td>Secure our Nation Ignite your FutureJoin the t...</td>\n",
       "      <td>[secure, nation, ignite, futurejoin, top, info...</td>\n",
       "      <td>4.2</td>\n",
       "      <td>ManTech</td>\n",
       "      <td>Chantilly, VA</td>\n",
       "      <td>Herndon, VA</td>\n",
       "      <td>5001 to 10000 employees</td>\n",
       "      <td>1968</td>\n",
       "      <td>Company - Public</td>\n",
       "      <td>Research &amp; Development</td>\n",
       "      <td>Business Services</td>\n",
       "      <td>$1 to $2 billion (USD)</td>\n",
       "      <td>-1</td>\n",
       "    </tr>\n",
       "    <tr>\n",
       "      <th>2</th>\n",
       "      <td>2</td>\n",
       "      <td>Data Scientist</td>\n",
       "      <td>137000 - 171000</td>\n",
       "      <td>154000</td>\n",
       "      <td>Analysis Group is one of the largest internati...</td>\n",
       "      <td>[analysis, group, one, largest, international,...</td>\n",
       "      <td>3.8</td>\n",
       "      <td>Analysis Group</td>\n",
       "      <td>Boston, MA</td>\n",
       "      <td>Boston, MA</td>\n",
       "      <td>1001 to 5000 employees</td>\n",
       "      <td>1981</td>\n",
       "      <td>Private Practice / Firm</td>\n",
       "      <td>Consulting</td>\n",
       "      <td>Business Services</td>\n",
       "      <td>$100 to $500 million (USD)</td>\n",
       "      <td>-1</td>\n",
       "    </tr>\n",
       "    <tr>\n",
       "      <th>3</th>\n",
       "      <td>3</td>\n",
       "      <td>Data Scientist</td>\n",
       "      <td>137000 - 171000</td>\n",
       "      <td>154000</td>\n",
       "      <td>Do you have a passion for Data and Machine Le...</td>\n",
       "      <td>[passion, data, machine, learning, dream, work...</td>\n",
       "      <td>3.5</td>\n",
       "      <td>INFICON</td>\n",
       "      <td>Newton, MA</td>\n",
       "      <td>Bad Ragaz, Switzerland</td>\n",
       "      <td>501 to 1000 employees</td>\n",
       "      <td>2000</td>\n",
       "      <td>Company - Public</td>\n",
       "      <td>Electrical &amp; Electronic Manufacturing</td>\n",
       "      <td>Manufacturing</td>\n",
       "      <td>$100 to $500 million (USD)</td>\n",
       "      <td>MKS Instruments, Pfeiffer Vacuum, Agilent Tech...</td>\n",
       "    </tr>\n",
       "    <tr>\n",
       "      <th>4</th>\n",
       "      <td>4</td>\n",
       "      <td>Data Scientist</td>\n",
       "      <td>137000 - 171000</td>\n",
       "      <td>154000</td>\n",
       "      <td>Data ScientistAffinity Solutions  Marketing Cl...</td>\n",
       "      <td>[data, scientistaffinity, solutions, marketing...</td>\n",
       "      <td>2.9</td>\n",
       "      <td>Affinity Solutions</td>\n",
       "      <td>New York, NY</td>\n",
       "      <td>New York, NY</td>\n",
       "      <td>51 to 200 employees</td>\n",
       "      <td>1998</td>\n",
       "      <td>Company - Private</td>\n",
       "      <td>Advertising &amp; Marketing</td>\n",
       "      <td>Business Services</td>\n",
       "      <td>Unknown / Non-Applicable</td>\n",
       "      <td>Commerce Signals, Cardlytics, Yodlee</td>\n",
       "    </tr>\n",
       "  </tbody>\n",
       "</table>\n",
       "</div>"
      ],
      "text/plain": [
       "   index          Job Title  Salary Estimate  Average Salary Estimate  \\\n",
       "0      0  Sr Data Scientist  137000 - 171000                   154000   \n",
       "1      1     Data Scientist  137000 - 171000                   154000   \n",
       "2      2     Data Scientist  137000 - 171000                   154000   \n",
       "3      3     Data Scientist  137000 - 171000                   154000   \n",
       "4      4     Data Scientist  137000 - 171000                   154000   \n",
       "\n",
       "                                     Job Description  \\\n",
       "0  The Senior Data Scientist is responsible for d...   \n",
       "1  Secure our Nation Ignite your FutureJoin the t...   \n",
       "2  Analysis Group is one of the largest internati...   \n",
       "3   Do you have a passion for Data and Machine Le...   \n",
       "4  Data ScientistAffinity Solutions  Marketing Cl...   \n",
       "\n",
       "                                              Tokens  Rating  \\\n",
       "0  [senior, data, scientist, responsible, definin...     3.1   \n",
       "1  [secure, nation, ignite, futurejoin, top, info...     4.2   \n",
       "2  [analysis, group, one, largest, international,...     3.8   \n",
       "3  [passion, data, machine, learning, dream, work...     3.5   \n",
       "4  [data, scientistaffinity, solutions, marketing...     2.9   \n",
       "\n",
       "         Company Name       Location            Headquarters  \\\n",
       "0         Healthfirst   New York, NY            New York, NY   \n",
       "1             ManTech  Chantilly, VA             Herndon, VA   \n",
       "2      Analysis Group     Boston, MA              Boston, MA   \n",
       "3             INFICON     Newton, MA  Bad Ragaz, Switzerland   \n",
       "4  Affinity Solutions   New York, NY            New York, NY   \n",
       "\n",
       "                      Size  Founded        Type of ownership  \\\n",
       "0   1001 to 5000 employees     1993   Nonprofit Organization   \n",
       "1  5001 to 10000 employees     1968         Company - Public   \n",
       "2   1001 to 5000 employees     1981  Private Practice / Firm   \n",
       "3    501 to 1000 employees     2000         Company - Public   \n",
       "4      51 to 200 employees     1998        Company - Private   \n",
       "\n",
       "                                Industry             Sector  \\\n",
       "0                     Insurance Carriers          Insurance   \n",
       "1                 Research & Development  Business Services   \n",
       "2                             Consulting  Business Services   \n",
       "3  Electrical & Electronic Manufacturing      Manufacturing   \n",
       "4                Advertising & Marketing  Business Services   \n",
       "\n",
       "                      Revenue  \\\n",
       "0    Unknown / Non-Applicable   \n",
       "1      $1 to $2 billion (USD)   \n",
       "2  $100 to $500 million (USD)   \n",
       "3  $100 to $500 million (USD)   \n",
       "4    Unknown / Non-Applicable   \n",
       "\n",
       "                                         Competitors  \n",
       "0            EmblemHealth, UnitedHealth Group, Aetna  \n",
       "1                                                 -1  \n",
       "2                                                 -1  \n",
       "3  MKS Instruments, Pfeiffer Vacuum, Agilent Tech...  \n",
       "4               Commerce Signals, Cardlytics, Yodlee  "
      ]
     },
     "execution_count": 235,
     "metadata": {},
     "output_type": "execute_result"
    }
   ],
   "source": [
    "job_data.head()"
   ]
  }
 ],
 "metadata": {
  "kernelspec": {
   "display_name": "Python 3 (ipykernel)",
   "language": "python",
   "name": "python3"
  },
  "language_info": {
   "codemirror_mode": {
    "name": "ipython",
    "version": 3
   },
   "file_extension": ".py",
   "mimetype": "text/x-python",
   "name": "python",
   "nbconvert_exporter": "python",
   "pygments_lexer": "ipython3",
   "version": "3.11.4"
  }
 },
 "nbformat": 4,
 "nbformat_minor": 5
}
